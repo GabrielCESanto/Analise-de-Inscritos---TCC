{
 "cells": [
  {
   "cell_type": "markdown",
   "metadata": {},
   "source": [
    "# Trabalho de Conclusão de Curso\n"
   ]
  },
  {
   "cell_type": "markdown",
   "metadata": {},
   "source": [
    "## Criação e tratamento da base de dados"
   ]
  },
  {
   "cell_type": "markdown",
   "metadata": {},
   "source": [
    "### Importando Bibliotecas"
   ]
  },
  {
   "cell_type": "code",
   "execution_count": null,
   "metadata": {},
   "outputs": [],
   "source": [
    "import tkinter as tk\n",
    "from tkinter import ttk\n",
    "import webbrowser\n",
    "import pandas as pd\n",
    "import tkinter.messagebox as tkm\n",
    "import threading\n",
    "import time"
   ]
  },
  {
   "cell_type": "markdown",
   "metadata": {},
   "source": [
    "### Definindo dicionário da base do SISU"
   ]
  },
  {
   "cell_type": "code",
   "execution_count": null,
   "metadata": {},
   "outputs": [],
   "source": [
    "bases_sisu = {\n",
    "    \"2016-1\": {\"ano\": 2016, \"semestre\": 1, \"encoding\": \"utf-8\", \"delimiter\": \"|\"},\n",
    "    \"2016-2\": {\"ano\": 2016, \"semestre\": 2, \"encoding\": \"utf-8\", \"delimiter\": \"|\"},\n",
    "    \"2017-1\": {\"ano\": 2017, \"semestre\": 1, \"encoding\": \"cp1252\", \"delimiter\": \"|\"},\n",
    "    \"2017-2\": {\"ano\": 2017, \"semestre\": 2, \"encoding\": \"utf-8\", \"delimiter\": \";\"},\n",
    "    \"2018-1\": {\"ano\": 2018, \"semestre\": 1, \"encoding\": \"cp1252\", \"delimiter\": \"|\"},\n",
    "    \"2018-2\": {\"ano\": 2018, \"semestre\": 2, \"encoding\": \"utf-8\", \"delimiter\": \";\"},\n",
    "    \"2019-1\": {\"ano\": 2019, \"semestre\": 1, \"encoding\": \"utf-8\", \"delimiter\": \";\"},\n",
    "    \"2019-2\": {\"ano\": 2019, \"semestre\": 2, \"encoding\": \"utf-8\", \"delimiter\": \";\"},\n",
    "    \"2020-1\": {\"ano\": 2020, \"semestre\": 1, \"encoding\": \"utf-8\", \"delimiter\": \";\"},\n",
    "    \"2020-2\": {\"ano\": 2020, \"semestre\": 2, \"encoding\": \"utf-8\", \"delimiter\": \";\"},\n",
    "    \"2021-1\": {\"ano\": 2021, \"semestre\": 1, \"encoding\": \"utf-8\", \"delimiter\": \";\"},\n",
    "    \"2021-2\": {\"ano\": 2021, \"semestre\": 2, \"encoding\": \"cp1252\", \"delimiter\": \"|\"},\n",
    "    \"2022-1\": {\"ano\": 2022, \"semestre\": 1, \"encoding\": \"cp1252\", \"delimiter\": \"|\"},\n",
    "    \"2022-2\": {\"ano\": 2022, \"semestre\": 2, \"encoding\": \"cp1252\", \"delimiter\": \"|\"},\n",
    "}"
   ]
  },
  {
   "cell_type": "markdown",
   "metadata": {},
   "source": [
    "### Selecionando colunas de interesse"
   ]
  },
  {
   "cell_type": "code",
   "execution_count": 3,
   "metadata": {},
   "outputs": [],
   "source": [
    "def selecionar_colunas(chave, dados_sisu, dados_enem):\n",
    "\n",
    "    # Selecionar Colunas ENEM e criar uma cópia\n",
    "    enem = dados_enem[['NU_NOTA_CN', 'NU_NOTA_CH', 'NU_NOTA_LC', 'NU_NOTA_MT', 'NU_NOTA_REDACAO', 'TP_SEXO', 'Q001', 'Q002', 'Q003', 'Q004', 'Q005', 'Q006', 'Q022', 'Q024', 'Q025']].copy()\n",
    "\n",
    "    # Renomear Colunas ENEM\n",
    "    enem = enem.rename(columns={'NU_NOTA_CN': 'CN', 'NU_NOTA_CH': 'CH', 'NU_NOTA_LC': 'LC', 'NU_NOTA_MT': 'MT', 'NU_NOTA_REDACAO': 'REDACAO', 'TP_SEXO': 'SEXO'})\n",
    "\n",
    "    # Selecionar e renomear colunas SISU\n",
    "    if chave in [\"2016-1\", \"2016-2\"]:\n",
    "        sisu = dados_sisu[['nu_nota_cn', 'nu_nota_ch', 'nu_nota_l', 'nu_nota_m', 'nu_nota_r', 'nota_concorrencia', 'nu_notacorte', 'tp_sexo', 'nome_curso', 'dt_nascimento', 'uf_origem', 'municipio_candidato', 'st_aprovado', 'nu_ano', 'nu_edicao', 'sigla_ies', 'campus']].copy()\n",
    "        sisu = sisu.rename(columns={'nu_nota_l': 'LC', 'nu_nota_ch': 'CH', 'nu_nota_cn': 'CN', 'nu_nota_m': 'MT', 'nu_nota_r': 'REDACAO'})\n",
    "        \n",
    "    elif chave in [\"2018-1\", \"2021-2\", \"2022-1\", \"2022-2\"]:\n",
    "        sisu = dados_sisu[['NOTA_CN', 'NOTA_CH', 'NOTA_L', 'NOTA_M', 'NOTA_R', 'NOTA_CANDIDATO', 'NOTA_CORTE', 'SEXO', 'NOME_CURSO', 'DATA_NASCIMENTO', 'UF_CANDIDATO', 'MUNICIPIO_CANDIDATO', 'APROVADO','ANO', 'EDICAO', 'SIGLA_IES', 'NOME_CAMPUS']].copy()\n",
    "        sisu = sisu.rename(columns={'NOTA_L': 'LC', 'NOTA_CH': 'CH', 'NOTA_CN': 'CN', 'NOTA_M': 'MT', 'NOTA_R': 'REDACAO'})\n",
    "\n",
    "    else:\n",
    "        sisu = dados_sisu[['NU_NOTA_CN', 'NU_NOTA_CH', 'NU_NOTA_L', 'NU_NOTA_M', 'NU_NOTA_R', 'NU_NOTA_CANDIDATO', 'NU_NOTACORTE', 'TP_SEXO', 'NO_CURSO', 'DT_NASCIMENTO', 'SG_UF_CANDIDATO', 'MUNICIPIO_CANDIDATO', 'ST_APROVADO', 'NU_ANO', 'NU_EDICAO', 'SIGLA_IES', 'NO_CAMPUS']].copy()\n",
    "        sisu = sisu.rename(columns={'NU_NOTA_L': 'LC', 'NU_NOTA_CH': 'CH', 'NU_NOTA_CN': 'CN', 'NU_NOTA_M': 'MT', 'NU_NOTA_R': 'REDACAO'})\n",
    "\n",
    "    return sisu, enem"
   ]
  },
  {
   "cell_type": "markdown",
   "metadata": {},
   "source": [
    "### Filtrando a base por instituição"
   ]
  },
  {
   "cell_type": "code",
   "execution_count": null,
   "metadata": {},
   "outputs": [],
   "source": [
    "def filtrar_instituicao(chave, sisu, cod_instituicao):\n",
    "    if chave in [\"2016-1\", \"2016-2\"]:\n",
    "        sisu = sisu[sisu[\"cod_ies\"] == cod_instituicao]\n",
    "    elif chave in [\"2018-1\", \"2021-2\", \"2022-1\", \"2022-2\"]:\n",
    "        sisu = sisu[sisu['CODIGO_IES'] == cod_instituicao]\n",
    "    else:\n",
    "        sisu = sisu[sisu['CO_IES'] == cod_instituicao]\n",
    "    \n",
    "    return sisu"
   ]
  },
  {
   "cell_type": "markdown",
   "metadata": {},
   "source": [
    "### Filtrando a base por campus"
   ]
  },
  {
   "cell_type": "code",
   "execution_count": null,
   "metadata": {},
   "outputs": [],
   "source": [
    "def filtrar_campus(chave, sisu, cod_campus):\n",
    "    if chave in [\"2016-1\", \"2016-2\"]:\n",
    "        sisu = sisu[sisu[\"cod_campus\"] == cod_campus]\n",
    "    elif chave in [\"2018-1\", \"2021-2\", \"2022-1\", \"2022-2\"]:\n",
    "        sisu = sisu[sisu['CODIGO_CAMPUS'] == cod_campus]\n",
    "    else:\n",
    "        sisu = sisu[sisu['CO_CAMPUS'] == cod_campus]\n",
    "    \n",
    "    return sisu"
   ]
  },
  {
   "cell_type": "markdown",
   "metadata": {},
   "source": [
    "### Processando base (Subsituição de caracteres, preenchimento de linhas em branco, conversão de tipos de dados)"
   ]
  },
  {
   "cell_type": "code",
   "execution_count": null,
   "metadata": {},
   "outputs": [],
   "source": [
    "def processar_base(chave, sisu, enem):\n",
    "    \n",
    "    colunas = ['CH', 'CN', 'MT', 'LC', 'REDACAO']\n",
    "    \n",
    "    for col in colunas:\n",
    "        if col in sisu.columns:\n",
    "            sisu.loc[:, col] = sisu[col].astype(str).str.replace(',', '.').astype(float)\n",
    "    \n",
    "    colunas_com_nan = sisu.columns[sisu.isnull().any()].tolist()\n",
    "\n",
    "    if len(colunas_com_nan) > 0:\n",
    "        if chave in [\"2016-1\", \"2016-2\"]:\n",
    "            sisu['nu_notacorte'] = pd.to_numeric(sisu['nu_notacorte'], errors='coerce')\n",
    "            sisu['nu_notacorte'] = sisu.groupby('nome_curso')['nu_notacorte'].transform(lambda x: x.fillna(x.mean()))\n",
    "\n",
    "        elif chave in [\"2018-1\", \"2021-2\", \"2022-1\", \"2022-2\"]:\n",
    "            sisu['NOTA_CORTE'] = pd.to_numeric(sisu['NOTA_CORTE'], errors='coerce')\n",
    "            sisu['NOTA_CORTE'] = sisu.groupby('NOME_CURSO')['NOTA_CORTE'].transform(lambda x: x.fillna(x.mean()))\n",
    "\n",
    "        else:\n",
    "            sisu['NU_NOTACORTE'] = pd.to_numeric(sisu['NU_NOTACORTE'], errors='coerce')\n",
    "            sisu['NU_NOTACORTE'] = sisu.groupby('NO_CURSO')['NU_NOTACORTE'].transform(lambda x: x.fillna(x.mean()))\n",
    "\n",
    "\n",
    "    for col in colunas:\n",
    "        if col in enem.columns:\n",
    "            enem.loc[:, col] = enem[col].round(2).astype(float)\n",
    "        if col in sisu.columns:\n",
    "            sisu.loc[:, col] = sisu[col].round(2).astype(float)\n",
    "\n",
    "    return sisu, enem"
   ]
  },
  {
   "cell_type": "markdown",
   "metadata": {},
   "source": [
    "### Mesclar a base"
   ]
  },
  {
   "cell_type": "code",
   "execution_count": null,
   "metadata": {},
   "outputs": [],
   "source": [
    "def mesclar_base(sisu, enem):\n",
    "    return pd.merge(sisu, enem, on=['CH', 'CN', 'MT', 'LC', 'REDACAO'], how='inner')"
   ]
  },
  {
   "cell_type": "markdown",
   "metadata": {},
   "source": [
    "## Funções e tratamentos relacionados a interface"
   ]
  },
  {
   "cell_type": "markdown",
   "metadata": {},
   "source": [
    "### Link do eMEC"
   ]
  },
  {
   "cell_type": "code",
   "execution_count": 8,
   "metadata": {},
   "outputs": [],
   "source": [
    "# Função para abrir o link no navegador\n",
    "def abrir_link():\n",
    "    webbrowser.open(\"https://emec.mec.gov.br/emec/nova\")"
   ]
  },
  {
   "cell_type": "markdown",
   "metadata": {},
   "source": [
    "### Tratamento dos parâmetros recebidos pela interface gráfica"
   ]
  },
  {
   "cell_type": "code",
   "execution_count": null,
   "metadata": {},
   "outputs": [],
   "source": [
    "def parametros(ano_inicial, ano_final, semestre_inicial, semestre_final, cod_campus, cod_instituicao):\n",
    "    # Obter os parâmetros\n",
    "    ano_inicial = int(ano_inicial)\n",
    "    semestre_inicial = int(semestre_inicial)\n",
    "    ano_final = int(ano_final)\n",
    "    semestre_final = int(semestre_final)\n",
    "\n",
    "    if cod_instituicao != \"\":\n",
    "        cod_instituicao = int(cod_instituicao)\n",
    "    else:\n",
    "        cod_instituicao = None\n",
    "\n",
    "    if cod_campus != \"\":\n",
    "        cod_campus = int(cod_campus)\n",
    "    else:\n",
    "        cod_campus = None\n",
    "\n",
    "    return ano_inicial, ano_final, semestre_inicial, semestre_final, cod_campus, cod_instituicao"
   ]
  },
  {
   "cell_type": "markdown",
   "metadata": {},
   "source": [
    "### Gerar vetor de edições que serão filtradas"
   ]
  },
  {
   "cell_type": "code",
   "execution_count": null,
   "metadata": {},
   "outputs": [],
   "source": [
    "def gerar_edicoes(ano_inicial, semestre_inicial, ano_final, semestre_final):\n",
    "    edicoes = []\n",
    "    for ano in range(ano_inicial, ano_final + 1):\n",
    "        for semestre in range(1, 3):  # Semestres 1 e 2\n",
    "            if ano == ano_inicial and semestre < semestre_inicial:\n",
    "                continue  # Pula semestres antes do inicial\n",
    "            if ano == ano_final and semestre > semestre_final:\n",
    "                continue  # Pula semestres após o final\n",
    "            edicoes.append((ano, semestre))\n",
    "    return edicoes"
   ]
  },
  {
   "cell_type": "markdown",
   "metadata": {},
   "source": [
    "## Execução do Programa"
   ]
  },
  {
   "cell_type": "markdown",
   "metadata": {},
   "source": [
    "### Execução da interface, cronômetro e criação da base de dados"
   ]
  },
  {
   "cell_type": "code",
   "execution_count": null,
   "metadata": {},
   "outputs": [
    {
     "name": "stdout",
     "output_type": "stream",
     "text": [
      "Base 2016-1 concluída!\n",
      " - Nesta edição a UTFPR-CP obteve 3465 inscrições e a base mesclada tem 3465 linhas\n"
     ]
    },
    {
     "name": "stderr",
     "output_type": "stream",
     "text": [
      "Exception in thread Thread-47 (gerar_base):\n",
      "Traceback (most recent call last):\n",
      "  File \"c:\\Users\\gabri\\AppData\\Local\\Programs\\Python\\Python312\\Lib\\threading.py\", line 1075, in _bootstrap_inner\n",
      "    self.run()\n",
      "  File \"C:\\Users\\gabri\\AppData\\Roaming\\Python\\Python312\\site-packages\\ipykernel\\ipkernel.py\", line 766, in run_closure\n",
      "    _threading_Thread_run(self)\n",
      "  File \"c:\\Users\\gabri\\AppData\\Local\\Programs\\Python\\Python312\\Lib\\threading.py\", line 1012, in run\n",
      "    self._target(*self._args, **self._kwargs)\n",
      "  File \"C:\\Users\\gabri\\AppData\\Local\\Temp\\ipykernel_7584\\1103312626.py\", line 79, in gerar_base\n",
      "  File \"c:\\Users\\gabri\\AppData\\Local\\Programs\\Python\\Python312\\Lib\\tkinter\\__init__.py\", line 1728, in cget\n",
      "    return self.tk.call(self._w, 'cget', '-' + key)\n",
      "           ^^^^^^^^^^^^^^^^^^^^^^^^^^^^^^^^^^^^^^^^\n",
      "RuntimeError: main thread is not in main loop\n"
     ]
    }
   ],
   "source": [
    "# Variáveis globais para o cronômetro\n",
    "cronometro_ativo = False\n",
    "tempo_inicial = 0\n",
    "\n",
    "def atualizar_cronometro():\n",
    "    if cronometro_ativo:\n",
    "        tempo_decorrido = time.time() - tempo_inicial\n",
    "        minutos = int(tempo_decorrido // 60)\n",
    "        segundos = int(tempo_decorrido % 60)\n",
    "        cronometro_label.config(text=f\"Tempo decorrido: {minutos} minutos e {segundos} segundos\")\n",
    "        \n",
    "        # Reexecuta esta função após 1000 ms (1 segundo)\n",
    "        cronometro_label.after(1000, atualizar_cronometro)\n",
    "\n",
    "def fechar_programa():\n",
    "    root.destroy()\n",
    "\n",
    "def gerar_base():\n",
    "    global tempo_inicial, cronometro_ativo\n",
    "    cronometro_ativo = True\n",
    "    tempo_inicial = time.time()\n",
    "\n",
    "    ano_inicial = var_ano_inicial.get()\n",
    "    ano_final = var_ano_final.get()\n",
    "    semestre_inicial = var_semestre_inicial.get()\n",
    "    semestre_final = var_semestre_final.get()\n",
    "    cod_instituicao = entry_cod_instituicao.get()\n",
    "    cod_campus = entry_cod_campus.get()\n",
    "\n",
    "    ano_inicial, ano_final, semestre_inicial, semestre_final, cod_campus, cod_instituicao = parametros(ano_inicial, ano_final, semestre_inicial, semestre_final, cod_campus, cod_instituicao)\n",
    "\n",
    "    atualizar_cronometro()\n",
    "    \n",
    "    # Lista para armazenar as bases unidas\n",
    "    todas_bases = []\n",
    "\n",
    "    # Definindo as edições\n",
    "    edicoes = gerar_edicoes(ano_inicial, semestre_inicial, ano_final, semestre_final)\n",
    "\n",
    "    for ano, semestre in edicoes:\n",
    "        chave = f\"{ano}-{semestre}\"\n",
    "\n",
    "        # Definindo caminhos\n",
    "        endereco_ENEM = f'./DADOS/ENEM/microdados_enem_{ano-1}/DADOS/microdados_enem_{ano-1}.csv'\n",
    "        endereco_SISU = f'./DADOS/SISU/ListagemChamadaRegular_{ano}-{semestre}/ListagemChamadaRegular_{ano}-{semestre}.csv'\n",
    "        delimiter_SISU = bases_sisu[chave][\"delimiter\"]\n",
    "        encoding_SISU = bases_sisu[chave][\"encoding\"]\n",
    "\n",
    "        # Carregar as bases\n",
    "        dados_enem = pd.read_csv(endereco_ENEM, delimiter=\";\", encoding=\"cp1252\")\n",
    "        dados_sisu = pd.read_csv(endereco_SISU, delimiter=delimiter_SISU, encoding=encoding_SISU, low_memory=False)\n",
    "\n",
    "        # Filtrando a base do SISU por instituicao\n",
    "        if cod_instituicao != None:\n",
    "            dados_sisu = filtrar_instituicao(chave, dados_sisu, cod_instituicao)\n",
    "\n",
    "        # Filtrando a base do SISU por campus\n",
    "        if cod_campus != None:\n",
    "            dados_sisu = filtrar_campus(chave, dados_sisu, cod_campus)\n",
    "\n",
    "        # Selecionar colunas de interesse\n",
    "        sisu, enem = selecionar_colunas(chave, dados_sisu, dados_enem)\n",
    "\n",
    "        # Processar as bases\n",
    "        sisu, enem = processar_base(chave, sisu, enem)\n",
    "\n",
    "        # Mesclar as bases\n",
    "        base_mesclada = mesclar_base(sisu, enem)\n",
    "\n",
    "        print(f'Base {ano}-{semestre} concluída!')\n",
    "        print(f' - Nesta edição a UTFPR-CP obteve {len(sisu)} inscrições e a base mesclada tem {len(base_mesclada)} linhas')\n",
    "\n",
    "        # Padronizando os nomes das colunas\n",
    "        colunas_padronizadas = ['CN', 'CH', 'LC', 'MT', 'REDACAO', 'NOTA_GERAL', 'NOTA_CORTE', 'SEXO_S', 'CURSO', 'DATA DE NASCIMENTO', 'UF', 'MUNICIPIO', 'APROVADO','ANO', 'EDICAO', 'SIGLA_IES', 'CAMPUS','SEXO_E', 'Q001', 'Q002', 'Q003', 'Q004', 'Q005', 'Q006', 'Q022', 'Q024', 'Q025']\n",
    "        base_mesclada.columns = colunas_padronizadas\n",
    "        todas_bases.append(base_mesclada)\n",
    "\n",
    "        # Atualizar a barra de progresso\n",
    "        progress['value'] += 100 / len(edicoes)  # Atualizar progresso\n",
    "        root.update_idletasks()  # Atualiza a interface\n",
    "\n",
    "\n",
    "    # Concatenar todas as bases unidas\n",
    "    Base_Final = pd.concat(todas_bases, ignore_index=True)\n",
    "    Base_Final.insert(0, 'ID', range(1, len(Base_Final) + 1))\n",
    "\n",
    "    # Exportar a base final para Excel\n",
    "    Base_Final.to_excel('./BaseFinal.xlsx', index=False)\n",
    "\n",
    "    # Mensagem de conclusão\n",
    "    tkm.showinfo(\"Concluído\", \"A base de dados foi gerada com sucesso!\")\n",
    "\n",
    "    # Para parar o cronômetro\n",
    "    cronometro_ativo = False\n",
    "    cronometro_label.config(text=\"Processo concluído!\")\n",
    "\n",
    "# Configuração da janela principal\n",
    "root = tk.Tk()\n",
    "root.title(\"Gerador de Base de Dados Filtrada\")\n",
    "root.geometry(\"500x500\")  # Aumentar o tamanho da janela\n",
    "root.resizable(False, False)  # Não permitir maximização\n",
    "\n",
    "# Opções de ano e semestre\n",
    "anos = [\"2016\", \"2017\", \"2018\", \"2019\", \"2020\", \"2021\", \"2022\"]\n",
    "semestres = [\"1\", \"2\"]\n",
    "\n",
    "# Adicionando um frame para centralizar o conteúdo\n",
    "frame = tk.Frame(root)\n",
    "frame.pack(expand=True)\n",
    "\n",
    "# Coleta de Ano Inicial\n",
    "tk.Label(frame, text=\"Ano Inicial:\").grid(row=0, column=0, padx=10, pady=5)\n",
    "var_ano_inicial = tk.StringVar(value=anos[0])\n",
    "lista_ano_inicial = tk.OptionMenu(frame, var_ano_inicial, *anos)\n",
    "lista_ano_inicial.grid(row=0, column=1, padx=10, pady=5)\n",
    "\n",
    "# Coleta de Ano Final\n",
    "tk.Label(frame, text=\"Ano Final:\").grid(row=1, column=0, padx=10, pady=5)\n",
    "var_ano_final = tk.StringVar(value=anos[0])\n",
    "lista_ano_final = tk.OptionMenu(frame, var_ano_final, *anos)\n",
    "lista_ano_final.grid(row=1, column=1, padx=10, pady=5)\n",
    "\n",
    "# Coleta de Semestre Inicial\n",
    "tk.Label(frame, text=\"Semestre Inicial:\").grid(row=2, column=0, padx=10, pady=5)\n",
    "var_semestre_inicial = tk.StringVar(value=semestres[0])\n",
    "lista_semestre_inicial = tk.OptionMenu(frame, var_semestre_inicial, *semestres)\n",
    "lista_semestre_inicial.grid(row=2, column=1, padx=10, pady=5)\n",
    "\n",
    "# Coleta de Semestre Final\n",
    "tk.Label(frame, text=\"Semestre Final:\").grid(row=3, column=0, padx=10, pady=5)\n",
    "var_semestre_final = tk.StringVar(value=semestres[0])\n",
    "lista_semestre_final = tk.OptionMenu(frame, var_semestre_final, *semestres)\n",
    "lista_semestre_final.grid(row=3, column=1, padx=10, pady=5)\n",
    "\n",
    "# Campo para o Código da Instituição\n",
    "tk.Label(frame, text=\"Código da Instituição:\").grid(row=4, column=0, padx=10, pady=5)\n",
    "entry_cod_instituicao = tk.Entry(frame)\n",
    "entry_cod_instituicao.grid(row=4, column=1, padx=10, pady=5)\n",
    "\n",
    "# Campo para o Código do Campus\n",
    "tk.Label(frame, text=\"Código do Campus:\").grid(row=5, column=0, padx=10, pady=5)\n",
    "entry_cod_campus = tk.Entry(frame)\n",
    "entry_cod_campus.grid(row=5, column=1, padx=10, pady=5)\n",
    "\n",
    "# Botão para gerar a base de dados\n",
    "btn_gerar = tk.Button(frame, text=\"Gerar Base\", command=lambda: threading.Thread(target=gerar_base).start())\n",
    "btn_gerar.grid(row=6, column=0, columnspan=2, pady=10)\n",
    "\n",
    "# Label com link clicável\n",
    "label_link = tk.Label(frame, text=\"Não sabe o código do campus ou da instituição? Acesse AQUI\", fg=\"blue\", cursor=\"hand2\")\n",
    "label_link.grid(row=7, column=0, columnspan=2, pady=10)\n",
    "label_link.bind(\"<Button-1>\", lambda e: abrir_link())\n",
    "\n",
    "# Label com aviso\n",
    "aviso = tk.Label(frame, text=\"Tempo médio de espera: 3 minutos para cada semestre selecionado.\")\n",
    "aviso.grid(row=8, column=0, columnspan=2, pady=10)\n",
    "\n",
    "# Label para o cronômetro\n",
    "cronometro_label = tk.Label(frame, text=\"Tempo decorrido: 0.0 segundos\")\n",
    "cronometro_label.grid(row=9, column=0, columnspan=2, pady=10)\n",
    "\n",
    "# Configuração da barra de progresso\n",
    "progress = ttk.Progressbar(frame, orient=\"horizontal\", length=300, mode='determinate')\n",
    "progress.grid(row=10, column=0, columnspan=2, pady=20)\n",
    "\n",
    "# Botão para fechar o programa\n",
    "btn_fechar = tk.Button(frame, text=\"Fechar\", command=fechar_programa)\n",
    "btn_fechar.grid(row=11, column=0, columnspan=2, pady=10)\n",
    "\n",
    "# Expandir o frame\n",
    "frame.pack(expand=True)\n",
    "\n",
    "root.mainloop()"
   ]
  }
 ],
 "metadata": {
  "kernelspec": {
   "display_name": "Python 3",
   "language": "python",
   "name": "python3"
  },
  "language_info": {
   "codemirror_mode": {
    "name": "ipython",
    "version": 3
   },
   "file_extension": ".py",
   "mimetype": "text/x-python",
   "name": "python",
   "nbconvert_exporter": "python",
   "pygments_lexer": "ipython3",
   "version": "3.12.5"
  }
 },
 "nbformat": 4,
 "nbformat_minor": 2
}
