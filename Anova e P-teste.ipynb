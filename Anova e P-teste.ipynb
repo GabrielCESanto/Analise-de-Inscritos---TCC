{
 "cells": [
  {
   "cell_type": "code",
   "execution_count": 1,
   "metadata": {},
   "outputs": [],
   "source": [
    "import pandas as pd\n",
    "from scipy import stats"
   ]
  },
  {
   "cell_type": "code",
   "execution_count": 3,
   "metadata": {},
   "outputs": [],
   "source": [
    "dados = pd.read_excel(f'E:/Estudos e Projetos/UTFPR/TCC/BaseDeDados.xlsx')"
   ]
  },
  {
   "cell_type": "code",
   "execution_count": 4,
   "metadata": {},
   "outputs": [],
   "source": [
    "cursos = ['ANÁLISE E DESENVOLVIMENTO DE SISTEMAS','ENGENHARIA ELETRÔNICA','ENGENHARIA ELÉTRICA','ENGENHARIA DE COMPUTAÇÃO','ENGENHARIA DE SOFTWARE','MATEMÁTICA','ENGENHARIA MECÂNICA','ENGENHARIA DE CONTROLE E AUTOMAÇÃO']"
   ]
  },
  {
   "cell_type": "code",
   "execution_count": 5,
   "metadata": {},
   "outputs": [
    {
     "name": "stdout",
     "output_type": "stream",
     "text": [
      "Curso: ANÁLISE E DESENVOLVIMENTO DE SISTEMAS, ANOVA: 0.9831752284239497, p-valor: 0.5000810754812869\n",
      "Curso: ENGENHARIA ELETRÔNICA, ANOVA: 1.4357913767599841, p-valor: 0.3213893507935862\n",
      "Curso: ENGENHARIA ELÉTRICA, ANOVA: 1.4949280668921716, p-valor: 0.3038963777538046\n",
      "Curso: ENGENHARIA DE COMPUTAÇÃO, ANOVA: 1.2345214468102943, p-valor: 0.3902427701172578\n",
      "Curso: ENGENHARIA DE SOFTWARE, ANOVA: 0.8168459316270298, p-valor: 0.5894250627160771\n",
      "Curso: MATEMÁTICA, ANOVA: 3.1300711462107738, p-valor: 0.08061895480595509\n",
      "Curso: ENGENHARIA MECÂNICA, ANOVA: 1.341041403249074, p-valor: 0.3519107064480418\n",
      "Curso: ENGENHARIA DE CONTROLE E AUTOMAÇÃO, ANOVA: 1.9403094114375143, p-valor: 0.2030010206722899\n",
      "Curso: Todos os Cursos, ANOVA: 1.755167475100714, p-valor: 0.018989729001693923\n"
     ]
    }
   ],
   "source": [
    "resultado_anova = {}\n",
    "\n",
    "for curso in cursos:\n",
    "    dados_curso = dados[dados['CURSO'] == curso]\n",
    "    \n",
    "    if not dados_curso.empty:  \n",
    "        contagem_inscritos = dados_curso.groupby(['ANO', 'EDICAO']).size().reset_index(name='NUM_INSCRITOS')\n",
    "        \n",
    "        grupos = [grupo['NUM_INSCRITOS'] for nome, grupo in contagem_inscritos.groupby('ANO')]\n",
    "        \n",
    "        if len(grupos) > 1: \n",
    "            anova_result = stats.f_oneway(*grupos)\n",
    "            resultado_anova[curso] = {\n",
    "                'ANOVA': anova_result.statistic,\n",
    "                'p-valor': anova_result.pvalue\n",
    "            }\n",
    "        else:\n",
    "            resultado_anova[curso] = {\n",
    "                'ANOVA': None,\n",
    "                'p-valor': None\n",
    "            }\n",
    "    else:\n",
    "        resultado_anova[curso] = {\n",
    "            'ANOVA': None,\n",
    "            'p-valor': None\n",
    "        }\n",
    "        \n",
    "contagem_inscritos_todos = dados.groupby(['CURSO', 'ANO', 'EDICAO']).size().reset_index(name='NUM_INSCRITOS')\n",
    "grupos_todos = [grupo['NUM_INSCRITOS'] for nome, grupo in contagem_inscritos_todos.groupby(['ANO', 'CURSO'])]\n",
    "\n",
    "if len(grupos_todos) > 1:\n",
    "    anova_result_todos = stats.f_oneway(*grupos_todos)\n",
    "    resultado_anova['Todos os Cursos'] = {\n",
    "        'ANOVA': anova_result_todos.statistic,\n",
    "        'p-valor': anova_result_todos.pvalue\n",
    "    }\n",
    "\n",
    "# Exibir os resultados\n",
    "for curso, resultado in resultado_anova.items():\n",
    "    print(f\"Curso: {curso}, ANOVA: {resultado['ANOVA']}, p-valor: {resultado['p-valor']}\")"
   ]
  }
 ],
 "metadata": {
  "kernelspec": {
   "display_name": "Python 3",
   "language": "python",
   "name": "python3"
  },
  "language_info": {
   "codemirror_mode": {
    "name": "ipython",
    "version": 3
   },
   "file_extension": ".py",
   "mimetype": "text/x-python",
   "name": "python",
   "nbconvert_exporter": "python",
   "pygments_lexer": "ipython3",
   "version": "3.12.5"
  }
 },
 "nbformat": 4,
 "nbformat_minor": 2
}
