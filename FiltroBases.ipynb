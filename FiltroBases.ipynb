{
 "cells": [
  {
   "cell_type": "code",
   "execution_count": 1,
   "metadata": {},
   "outputs": [],
   "source": [
    "import pandas as pd"
   ]
  },
  {
   "cell_type": "code",
   "execution_count": 2,
   "metadata": {},
   "outputs": [],
   "source": [
    "cod_campus = None\n",
    "cod_instituicao = 588\n",
    "edicoes = [(2016, 1), (2016, 2), (2017, 1)]#, (2017, 2), (2018, 1), (2018, 2), (2019, 1), (2019, 2), (2020, 1), (2020, 2), (2021, 1),(2021, 2), (2022, 1), (2022, 2)]"
   ]
  },
  {
   "cell_type": "code",
   "execution_count": 3,
   "metadata": {},
   "outputs": [],
   "source": [
    "bases_sisu = {\n",
    "    \"2016-1\": {\"ano\": 2016, \"semestre\": 1, \"encoding\": \"utf-8\", \"delimiter\": \"|\"},\n",
    "    \"2016-2\": {\"ano\": 2016, \"semestre\": 2, \"encoding\": \"utf-8\", \"delimiter\": \"|\"},\n",
    "    \"2017-1\": {\"ano\": 2017, \"semestre\": 1, \"encoding\": \"cp1252\", \"delimiter\": \"|\"},\n",
    "    \"2017-2\": {\"ano\": 2017, \"semestre\": 2, \"encoding\": \"utf-8\", \"delimiter\": \";\"},\n",
    "    \"2018-1\": {\"ano\": 2018, \"semestre\": 1, \"encoding\": \"cp1252\", \"delimiter\": \"|\"},\n",
    "    \"2018-2\": {\"ano\": 2018, \"semestre\": 2, \"encoding\": \"utf-8\", \"delimiter\": \";\"},\n",
    "    \"2019-1\": {\"ano\": 2019, \"semestre\": 1, \"encoding\": \"utf-8\", \"delimiter\": \";\"},\n",
    "    \"2019-2\": {\"ano\": 2019, \"semestre\": 2, \"encoding\": \"utf-8\", \"delimiter\": \";\"},\n",
    "    \"2020-1\": {\"ano\": 2020, \"semestre\": 1, \"encoding\": \"utf-8\", \"delimiter\": \";\"},\n",
    "    \"2020-2\": {\"ano\": 2020, \"semestre\": 2, \"encoding\": \"utf-8\", \"delimiter\": \";\"},\n",
    "    \"2021-1\": {\"ano\": 2021, \"semestre\": 1, \"encoding\": \"utf-8\", \"delimiter\": \";\"},\n",
    "    \"2021-2\": {\"ano\": 2021, \"semestre\": 2, \"encoding\": \"cp1252\", \"delimiter\": \"|\"},\n",
    "    \"2022-1\": {\"ano\": 2022, \"semestre\": 1, \"encoding\": \"cp1252\", \"delimiter\": \"|\"},\n",
    "    \"2022-2\": {\"ano\": 2022, \"semestre\": 2, \"encoding\": \"cp1252\", \"delimiter\": \"|\"},\n",
    "}"
   ]
  },
  {
   "cell_type": "code",
   "execution_count": 4,
   "metadata": {},
   "outputs": [],
   "source": [
    "def selecionar_colunas(chave, dados_sisu, dados_enem):\n",
    "\n",
    "    enem = dados_enem[['NU_NOTA_CN', 'NU_NOTA_CH', 'NU_NOTA_LC', 'NU_NOTA_MT', 'NU_NOTA_REDACAO', 'TP_SEXO', 'Q001', 'Q002', 'Q003', 'Q004', 'Q005', 'Q006', 'Q022', 'Q024', 'Q025']].copy()\n",
    "\n",
    "    enem = enem.rename(columns={'NU_NOTA_CN': 'CN', 'NU_NOTA_CH': 'CH', 'NU_NOTA_LC': 'LC', 'NU_NOTA_MT': 'MT', 'NU_NOTA_REDACAO': 'REDACAO', 'TP_SEXO': 'SEXO'})\n",
    "\n",
    "    if chave in [\"2016-1\", \"2016-2\"]:\n",
    "        sisu = dados_sisu[['nu_nota_cn', 'nu_nota_ch', 'nu_nota_l', 'nu_nota_m', 'nu_nota_r', 'nota_concorrencia', 'nu_notacorte', 'tp_sexo', 'nome_curso', 'dt_nascimento', 'uf_origem', 'municipio_candidato', 'st_aprovado', 'nu_ano', 'nu_edicao', 'sigla_ies', 'campus']].copy()\n",
    "        sisu = sisu.rename(columns={'nu_nota_l': 'LC', 'nu_nota_ch': 'CH', 'nu_nota_cn': 'CN', 'nu_nota_m': 'MT', 'nu_nota_r': 'REDACAO'})\n",
    "        \n",
    "    elif chave in [\"2018-1\", \"2021-2\", \"2022-1\", \"2022-2\"]:\n",
    "        sisu = dados_sisu[['NOTA_CN', 'NOTA_CH', 'NOTA_L', 'NOTA_M', 'NOTA_R', 'NOTA_CANDIDATO', 'NOTA_CORTE', 'SEXO', 'NOME_CURSO', 'DATA_NASCIMENTO', 'UF_CANDIDATO', 'MUNICIPIO_CANDIDATO', 'APROVADO','ANO', 'EDICAO', 'SIGLA_IES', 'NOME_CAMPUS']].copy()\n",
    "        sisu = sisu.rename(columns={'NOTA_L': 'LC', 'NOTA_CH': 'CH', 'NOTA_CN': 'CN', 'NOTA_M': 'MT', 'NOTA_R': 'REDACAO'})\n",
    "\n",
    "    else:\n",
    "        sisu = dados_sisu[['NU_NOTA_CN', 'NU_NOTA_CH', 'NU_NOTA_L', 'NU_NOTA_M', 'NU_NOTA_R', 'NU_NOTA_CANDIDATO', 'NU_NOTACORTE', 'TP_SEXO', 'NO_CURSO', 'DT_NASCIMENTO', 'SG_UF_CANDIDATO', 'MUNICIPIO_CANDIDATO', 'ST_APROVADO', 'NU_ANO', 'NU_EDICAO', 'SIGLA_IES', 'NO_CAMPUS']].copy()\n",
    "        sisu = sisu.rename(columns={'NU_NOTA_L': 'LC', 'NU_NOTA_CH': 'CH', 'NU_NOTA_CN': 'CN', 'NU_NOTA_M': 'MT', 'NU_NOTA_R': 'REDACAO'})\n",
    "\n",
    "    return sisu, enem"
   ]
  },
  {
   "cell_type": "code",
   "execution_count": 5,
   "metadata": {},
   "outputs": [],
   "source": [
    "def filtrar_campus(chave, sisu, cod_campus):\n",
    "    if chave in [\"2016-1\", \"2016-2\"]:\n",
    "        sisu = sisu[sisu[\"cod_campus\"] == cod_campus]\n",
    "    elif chave in [\"2018-1\", \"2021-2\", \"2022-1\", \"2022-2\"]:\n",
    "        sisu = sisu[sisu['CODIGO_CAMPUS'] == cod_campus]\n",
    "    else:\n",
    "        sisu = sisu[sisu['CO_CAMPUS'] == cod_campus]\n",
    "    \n",
    "    return sisu"
   ]
  },
  {
   "cell_type": "code",
   "execution_count": 6,
   "metadata": {},
   "outputs": [],
   "source": [
    "def filtrar_instituicao(chave, sisu, cod_instituicao):\n",
    "    if chave in [\"2016-1\", \"2016-2\"]:\n",
    "        sisu = sisu[sisu[\"cod_ies\"] == cod_instituicao]\n",
    "    elif chave in [\"2018-1\", \"2021-2\", \"2022-1\", \"2022-2\"]:\n",
    "        sisu = sisu[sisu['CODIGO_IES'] == cod_instituicao]\n",
    "    else:\n",
    "        sisu = sisu[sisu['CO_IES'] == cod_instituicao]\n",
    "    \n",
    "    return sisu"
   ]
  },
  {
   "cell_type": "code",
   "execution_count": 7,
   "metadata": {},
   "outputs": [],
   "source": [
    "def processar_base(chave, sisu, enem):\n",
    "    \n",
    "    colunas = ['CH', 'CN', 'MT', 'LC', 'REDACAO']\n",
    "    \n",
    "    for col in colunas:\n",
    "        if col in sisu.columns:\n",
    "            sisu.loc[:, col] = sisu[col].astype(str).str.replace(',', '.').astype(float)\n",
    "    \n",
    "    colunas_com_nan = sisu.columns[sisu.isnull().any()].tolist()\n",
    "\n",
    "    if len(colunas_com_nan) > 0:\n",
    "        if chave in [\"2016-1\", \"2016-2\"]:\n",
    "            sisu['nu_notacorte'] = pd.to_numeric(sisu['nu_notacorte'], errors='coerce')\n",
    "            sisu['nu_notacorte'] = sisu.groupby('nome_curso')['nu_notacorte'].transform(lambda x: x.fillna(x.mean()))\n",
    "\n",
    "        elif chave in [\"2018-1\", \"2021-2\", \"2022-1\", \"2022-2\"]:\n",
    "            sisu['NOTA_CORTE'] = pd.to_numeric(sisu['NOTA_CORTE'], errors='coerce')\n",
    "            sisu['NOTA_CORTE'] = sisu.groupby('NOME_CURSO')['NOTA_CORTE'].transform(lambda x: x.fillna(x.mean()))\n",
    "\n",
    "        else:\n",
    "            sisu['NU_NOTACORTE'] = pd.to_numeric(sisu['NU_NOTACORTE'], errors='coerce')\n",
    "            sisu['NU_NOTACORTE'] = sisu.groupby('NO_CURSO')['NU_NOTACORTE'].transform(lambda x: x.fillna(x.mean()))\n",
    "\n",
    "\n",
    "    for col in colunas:\n",
    "        if col in enem.columns:\n",
    "            enem.loc[:, col] = enem[col].round(2).astype(float)\n",
    "        if col in sisu.columns:\n",
    "            sisu.loc[:, col] = sisu[col].round(2).astype(float)\n",
    "\n",
    "    return sisu, enem"
   ]
  },
  {
   "cell_type": "code",
   "execution_count": 8,
   "metadata": {},
   "outputs": [],
   "source": [
    "def mesclar_base(sisu, enem):\n",
    "    base_mesclada = pd.merge(sisu, enem, on=['CH', 'CN', 'MT', 'LC', 'REDACAO'], how='inner')\n",
    "    \n",
    "    return base_mesclada"
   ]
  },
  {
   "cell_type": "code",
   "execution_count": 9,
   "metadata": {},
   "outputs": [
    {
     "name": "stdout",
     "output_type": "stream",
     "text": [
      "Base 2016-1 concluída!\n",
      " - Nesta edição a instituição ou campus obteve 70758 inscrições e a base mesclada tem 70658 linhas\n",
      "Base 2016-2 concluída!\n",
      " - Nesta edição a instituição ou campus obteve 12389 inscrições e a base mesclada tem 12389 linhas\n",
      "Base 2017-1 concluída!\n",
      " - Nesta edição a instituição ou campus obteve 67060 inscrições e a base mesclada tem 66877 linhas\n"
     ]
    }
   ],
   "source": [
    "todas_bases = []\n",
    "\n",
    "for ano, semestre in edicoes:\n",
    "    chave = f\"{ano}-{semestre}\"\n",
    "\n",
    "    endereco_ENEM = f'./DADOS/ENEM/microdados_enem_{ano-1}/DADOS/microdados_enem_{ano-1}.csv'\n",
    "    \n",
    "    endereco_SISU = f'./DADOS/SISU/ListagemChamadaRegular_{ano}-{semestre}/ListagemChamadaRegular_{ano}-{semestre}.csv'\n",
    "    delimiter_SISU = bases_sisu[chave][\"delimiter\"]\n",
    "    encoding_SISU = bases_sisu[chave][\"encoding\"]\n",
    "    \n",
    "    dados_enem = pd.read_csv(endereco_ENEM, delimiter=\";\", encoding=\"cp1252\")\n",
    "    dados_sisu = pd.read_csv(endereco_SISU, delimiter=delimiter_SISU, encoding=encoding_SISU, low_memory=False)\n",
    "    \n",
    "\n",
    "    if cod_instituicao != None:\n",
    "        dados_sisu = filtrar_instituicao(chave, dados_sisu, cod_instituicao)\n",
    "\n",
    "    if cod_campus != None:\n",
    "        dados_sisu = filtrar_campus(chave, dados_sisu, cod_campus)\n",
    "\n",
    "    sisu, enem = selecionar_colunas(chave, dados_sisu, dados_enem)\n",
    "\n",
    "    sisu, enem = processar_base(chave, sisu, enem)\n",
    "\n",
    "    base_mesclada = mesclar_base(sisu, enem)\n",
    "\n",
    "    print(f'Base {ano}-{semestre} concluída!')\n",
    "    print(f' - Nesta edição a instituição ou campus obteve {len(sisu)} inscrições e a base mesclada tem {len(base_mesclada)} linhas')\n",
    "\n",
    "    colunas_padronizadas = ['CN', 'CH', 'LC', 'MT', 'REDACAO', 'NOTA_GERAL', 'NOTA_CORTE', 'SEXO_S', 'CURSO', 'DATA DE NASCIMENTO', 'UF', 'MUNICIPIO', 'APROVADO','ANO', 'EDICAO', 'SIGLA_IES', 'CAMPUS','SEXO_E', 'Q001', 'Q002', 'Q003', 'Q004', 'Q005', 'Q006', 'Q022', 'Q024', 'Q025']\n",
    "    base_mesclada.columns = colunas_padronizadas\n",
    "\n",
    "    todas_bases.append(base_mesclada) "
   ]
  },
  {
   "cell_type": "code",
   "execution_count": 10,
   "metadata": {},
   "outputs": [],
   "source": [
    "Base_Final = pd.concat(todas_bases, ignore_index=True)\n",
    "Base_Final.insert(0, 'ID', range(1, len(Base_Final) + 1))"
   ]
  },
  {
   "cell_type": "code",
   "execution_count": 11,
   "metadata": {},
   "outputs": [],
   "source": [
    "Base_Final.to_excel('./Base.xlsx', index=False)"
   ]
  }
 ],
 "metadata": {
  "kernelspec": {
   "display_name": "Python 3",
   "language": "python",
   "name": "python3"
  },
  "language_info": {
   "codemirror_mode": {
    "name": "ipython",
    "version": 3
   },
   "file_extension": ".py",
   "mimetype": "text/x-python",
   "name": "python",
   "nbconvert_exporter": "python",
   "pygments_lexer": "ipython3",
   "version": "3.12.5"
  }
 },
 "nbformat": 4,
 "nbformat_minor": 2
}
